{
 "cells": [
  {
   "cell_type": "code",
   "execution_count": 1,
   "metadata": {
    "collapsed": true
   },
   "outputs": [],
   "source": [
    "import pandas as pd\n",
    "import re"
   ]
  },
  {
   "cell_type": "code",
   "execution_count": 84,
   "metadata": {
    "collapsed": true
   },
   "outputs": [],
   "source": [
    "mon = ['jan','feb','mar','apr','may','jun','jul','aug','sep','oct','nov','dec']"
   ]
  },
  {
   "cell_type": "code",
   "execution_count": 97,
   "metadata": {
    "collapsed": false
   },
   "outputs": [],
   "source": [
    "for m in mon:\n",
    "    filename = 'raw/'+m\n",
    "    month = []\n",
    "    with open(filename) as fi:\n",
    "        for i in fi.readlines():\n",
    "            month.append(i)\n",
    "\n",
    "    month = map(lambda y: (filter(lambda x: x!='',re.split('\\n|\\(|\\)',y))[0],\n",
    "                             int( filter(lambda x: x!='',re.split('\\n|\\(|\\)',y))[1].split(', ')[1])),\n",
    "                month)\n",
    "    month = filter(lambda x: x[0][0][0]=='u',month)\n",
    "    month = map(lambda x: (x[0].split(', '),x[1]),month)\n",
    "    df_j=pd.DataFrame(columns=['line','day_of_week','hour','day','month','count'],\n",
    "                      index=range(len(month)))\n",
    "    for i in range(len(month)):\n",
    "        df_j.iloc[i,0]= month[i][0][0]\n",
    "        df_j.iloc[i,1]= month[i][0][1]\n",
    "        df_j.iloc[i,2]= month[i][0][2]\n",
    "        df_j.iloc[i,3]= month[i][0][3]\n",
    "        df_j.iloc[i,4]= month[i][0][4]\n",
    "        df_j.iloc[i,5]= month[i][1]\n",
    "    for i in range(1,6):\n",
    "        df_j.iloc[:,i]= pd.to_numeric(df_j.iloc[:,i])\n",
    "    df_j.line = map(lambda x: x.split(\"'\")[1],df_j.line)\n",
    "    output= 'csv/'+m+'.csv'\n",
    "    df_j.to_csv(output)"
   ]
  }
 ],
 "metadata": {
  "anaconda-cloud": {},
  "kernelspec": {
   "display_name": "Python [conda root]",
   "language": "python",
   "name": "conda-root-py"
  },
  "language_info": {
   "codemirror_mode": {
    "name": "ipython",
    "version": 2
   },
   "file_extension": ".py",
   "mimetype": "text/x-python",
   "name": "python",
   "nbconvert_exporter": "python",
   "pygments_lexer": "ipython2",
   "version": "2.7.12"
  }
 },
 "nbformat": 4,
 "nbformat_minor": 1
}
